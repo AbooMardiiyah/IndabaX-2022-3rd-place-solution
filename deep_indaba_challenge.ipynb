{
  "cells": [
    {
      "cell_type": "markdown",
      "metadata": {
        "id": "view-in-github",
        "colab_type": "text"
      },
      "source": [
        "<a href=\"https://colab.research.google.com/github/AbooMardiiyah/IndabaX-2022-3rd-place-solution/blob/main/deep_indaba_challenge.ipynb\" target=\"_parent\"><img src=\"https://colab.research.google.com/assets/colab-badge.svg\" alt=\"Open In Colab\"/></a>"
      ]
    },
    {
      "cell_type": "code",
      "source": [
        "from google.colab import drive\n",
        "drive.mount('/content/drive')"
      ],
      "metadata": {
        "id": "2SGQ-0KEEnpL",
        "colab": {
          "base_uri": "https://localhost:8080/"
        },
        "outputId": "2a9e1b48-b087-47dd-e579-67fee7da8f3e"
      },
      "execution_count": 1,
      "outputs": [
        {
          "output_type": "stream",
          "name": "stdout",
          "text": [
            "Mounted at /content/drive\n"
          ]
        }
      ]
    },
    {
      "cell_type": "markdown",
      "source": [],
      "metadata": {
        "id": "IFye00ouNpO8"
      }
    },
    {
      "cell_type": "markdown",
      "source": [
        "Importing the important libraries"
      ],
      "metadata": {
        "id": "swGDmRPYx7bV"
      }
    },
    {
      "cell_type": "code",
      "execution_count": 2,
      "metadata": {
        "id": "K4wwroC3EaPF"
      },
      "outputs": [],
      "source": [
        "import pandas as pd\n",
        "import numpy as np\n",
        "from sklearn.model_selection import GridSearchCV, KFold\n",
        "from sklearn.ensemble import BaggingClassifier, AdaBoostClassifier\n",
        "import xgboost as xgb\n",
        "from sklearn.ensemble import RandomForestClassifier, GradientBoostingClassifier\n",
        "from sklearn.preprocessing import LabelEncoder\n",
        "\n"
      ]
    },
    {
      "cell_type": "code",
      "source": [
        "train_data = pd.read_csv(\"/content/train.csv\")\n",
        "test_data = pd.read_csv(\"/content/test.csv\")\n",
        "train_data.head()"
      ],
      "metadata": {
        "id": "mBIafjs4xz-7",
        "colab": {
          "base_uri": "https://localhost:8080/",
          "height": 296
        },
        "outputId": "0946f068-151b-4c9b-fadf-28f3b02ba900"
      },
      "execution_count": 3,
      "outputs": [
        {
          "output_type": "execute_result",
          "data": {
            "text/plain": [
              "   surveyid  village survey_date  femaleres   age  married  children  hhsize  \\\n",
              "0       926       91   23-Nov-61          1  28.0        1         4       6   \n",
              "1       747       57   24-Oct-61          1  23.0        1         3       5   \n",
              "2      1190      115   05-Oct-61          1  22.0        1         3       5   \n",
              "3      1065       97   23-Sep-61          1  27.0        1         2       4   \n",
              "4       806       42   12-Sep-61          0  59.0        0         4       6   \n",
              "\n",
              "   edu  hh_children  ...  given_mpesa  amount_given_mpesa  received_mpesa  \\\n",
              "0   10            0  ...            0                 0.0               0   \n",
              "1    8            0  ...            0                 0.0               1   \n",
              "2    9            0  ...            0                 0.0               0   \n",
              "3   10            2  ...            0                 0.0               0   \n",
              "4   10            4  ...            0                 0.0               0   \n",
              "\n",
              "   amount_received_mpesa  net_mpesa  saved_mpesa  amount_saved_mpesa  \\\n",
              "0               0.000000   0.000000            1            0.000000   \n",
              "1               4.804611   4.804611            0            0.000000   \n",
              "2               8.007685   8.007685            1            0.000000   \n",
              "3               0.000000   0.000000            1            1.249199   \n",
              "4               0.000000   0.000000            0            0.000000   \n",
              "\n",
              "   early_survey  depressed  day_of_week  \n",
              "0             0          0            5  \n",
              "1             0          1            3  \n",
              "2             0          0            5  \n",
              "3             0          0            0  \n",
              "4             0          0            3  \n",
              "\n",
              "[5 rows x 75 columns]"
            ],
            "text/html": [
              "\n",
              "  <div id=\"df-66128096-ec02-4c2c-b391-0d4386ee7d09\">\n",
              "    <div class=\"colab-df-container\">\n",
              "      <div>\n",
              "<style scoped>\n",
              "    .dataframe tbody tr th:only-of-type {\n",
              "        vertical-align: middle;\n",
              "    }\n",
              "\n",
              "    .dataframe tbody tr th {\n",
              "        vertical-align: top;\n",
              "    }\n",
              "\n",
              "    .dataframe thead th {\n",
              "        text-align: right;\n",
              "    }\n",
              "</style>\n",
              "<table border=\"1\" class=\"dataframe\">\n",
              "  <thead>\n",
              "    <tr style=\"text-align: right;\">\n",
              "      <th></th>\n",
              "      <th>surveyid</th>\n",
              "      <th>village</th>\n",
              "      <th>survey_date</th>\n",
              "      <th>femaleres</th>\n",
              "      <th>age</th>\n",
              "      <th>married</th>\n",
              "      <th>children</th>\n",
              "      <th>hhsize</th>\n",
              "      <th>edu</th>\n",
              "      <th>hh_children</th>\n",
              "      <th>...</th>\n",
              "      <th>given_mpesa</th>\n",
              "      <th>amount_given_mpesa</th>\n",
              "      <th>received_mpesa</th>\n",
              "      <th>amount_received_mpesa</th>\n",
              "      <th>net_mpesa</th>\n",
              "      <th>saved_mpesa</th>\n",
              "      <th>amount_saved_mpesa</th>\n",
              "      <th>early_survey</th>\n",
              "      <th>depressed</th>\n",
              "      <th>day_of_week</th>\n",
              "    </tr>\n",
              "  </thead>\n",
              "  <tbody>\n",
              "    <tr>\n",
              "      <th>0</th>\n",
              "      <td>926</td>\n",
              "      <td>91</td>\n",
              "      <td>23-Nov-61</td>\n",
              "      <td>1</td>\n",
              "      <td>28.0</td>\n",
              "      <td>1</td>\n",
              "      <td>4</td>\n",
              "      <td>6</td>\n",
              "      <td>10</td>\n",
              "      <td>0</td>\n",
              "      <td>...</td>\n",
              "      <td>0</td>\n",
              "      <td>0.0</td>\n",
              "      <td>0</td>\n",
              "      <td>0.000000</td>\n",
              "      <td>0.000000</td>\n",
              "      <td>1</td>\n",
              "      <td>0.000000</td>\n",
              "      <td>0</td>\n",
              "      <td>0</td>\n",
              "      <td>5</td>\n",
              "    </tr>\n",
              "    <tr>\n",
              "      <th>1</th>\n",
              "      <td>747</td>\n",
              "      <td>57</td>\n",
              "      <td>24-Oct-61</td>\n",
              "      <td>1</td>\n",
              "      <td>23.0</td>\n",
              "      <td>1</td>\n",
              "      <td>3</td>\n",
              "      <td>5</td>\n",
              "      <td>8</td>\n",
              "      <td>0</td>\n",
              "      <td>...</td>\n",
              "      <td>0</td>\n",
              "      <td>0.0</td>\n",
              "      <td>1</td>\n",
              "      <td>4.804611</td>\n",
              "      <td>4.804611</td>\n",
              "      <td>0</td>\n",
              "      <td>0.000000</td>\n",
              "      <td>0</td>\n",
              "      <td>1</td>\n",
              "      <td>3</td>\n",
              "    </tr>\n",
              "    <tr>\n",
              "      <th>2</th>\n",
              "      <td>1190</td>\n",
              "      <td>115</td>\n",
              "      <td>05-Oct-61</td>\n",
              "      <td>1</td>\n",
              "      <td>22.0</td>\n",
              "      <td>1</td>\n",
              "      <td>3</td>\n",
              "      <td>5</td>\n",
              "      <td>9</td>\n",
              "      <td>0</td>\n",
              "      <td>...</td>\n",
              "      <td>0</td>\n",
              "      <td>0.0</td>\n",
              "      <td>0</td>\n",
              "      <td>8.007685</td>\n",
              "      <td>8.007685</td>\n",
              "      <td>1</td>\n",
              "      <td>0.000000</td>\n",
              "      <td>0</td>\n",
              "      <td>0</td>\n",
              "      <td>5</td>\n",
              "    </tr>\n",
              "    <tr>\n",
              "      <th>3</th>\n",
              "      <td>1065</td>\n",
              "      <td>97</td>\n",
              "      <td>23-Sep-61</td>\n",
              "      <td>1</td>\n",
              "      <td>27.0</td>\n",
              "      <td>1</td>\n",
              "      <td>2</td>\n",
              "      <td>4</td>\n",
              "      <td>10</td>\n",
              "      <td>2</td>\n",
              "      <td>...</td>\n",
              "      <td>0</td>\n",
              "      <td>0.0</td>\n",
              "      <td>0</td>\n",
              "      <td>0.000000</td>\n",
              "      <td>0.000000</td>\n",
              "      <td>1</td>\n",
              "      <td>1.249199</td>\n",
              "      <td>0</td>\n",
              "      <td>0</td>\n",
              "      <td>0</td>\n",
              "    </tr>\n",
              "    <tr>\n",
              "      <th>4</th>\n",
              "      <td>806</td>\n",
              "      <td>42</td>\n",
              "      <td>12-Sep-61</td>\n",
              "      <td>0</td>\n",
              "      <td>59.0</td>\n",
              "      <td>0</td>\n",
              "      <td>4</td>\n",
              "      <td>6</td>\n",
              "      <td>10</td>\n",
              "      <td>4</td>\n",
              "      <td>...</td>\n",
              "      <td>0</td>\n",
              "      <td>0.0</td>\n",
              "      <td>0</td>\n",
              "      <td>0.000000</td>\n",
              "      <td>0.000000</td>\n",
              "      <td>0</td>\n",
              "      <td>0.000000</td>\n",
              "      <td>0</td>\n",
              "      <td>0</td>\n",
              "      <td>3</td>\n",
              "    </tr>\n",
              "  </tbody>\n",
              "</table>\n",
              "<p>5 rows × 75 columns</p>\n",
              "</div>\n",
              "      <button class=\"colab-df-convert\" onclick=\"convertToInteractive('df-66128096-ec02-4c2c-b391-0d4386ee7d09')\"\n",
              "              title=\"Convert this dataframe to an interactive table.\"\n",
              "              style=\"display:none;\">\n",
              "        \n",
              "  <svg xmlns=\"http://www.w3.org/2000/svg\" height=\"24px\"viewBox=\"0 0 24 24\"\n",
              "       width=\"24px\">\n",
              "    <path d=\"M0 0h24v24H0V0z\" fill=\"none\"/>\n",
              "    <path d=\"M18.56 5.44l.94 2.06.94-2.06 2.06-.94-2.06-.94-.94-2.06-.94 2.06-2.06.94zm-11 1L8.5 8.5l.94-2.06 2.06-.94-2.06-.94L8.5 2.5l-.94 2.06-2.06.94zm10 10l.94 2.06.94-2.06 2.06-.94-2.06-.94-.94-2.06-.94 2.06-2.06.94z\"/><path d=\"M17.41 7.96l-1.37-1.37c-.4-.4-.92-.59-1.43-.59-.52 0-1.04.2-1.43.59L10.3 9.45l-7.72 7.72c-.78.78-.78 2.05 0 2.83L4 21.41c.39.39.9.59 1.41.59.51 0 1.02-.2 1.41-.59l7.78-7.78 2.81-2.81c.8-.78.8-2.07 0-2.86zM5.41 20L4 18.59l7.72-7.72 1.47 1.35L5.41 20z\"/>\n",
              "  </svg>\n",
              "      </button>\n",
              "      \n",
              "  <style>\n",
              "    .colab-df-container {\n",
              "      display:flex;\n",
              "      flex-wrap:wrap;\n",
              "      gap: 12px;\n",
              "    }\n",
              "\n",
              "    .colab-df-convert {\n",
              "      background-color: #E8F0FE;\n",
              "      border: none;\n",
              "      border-radius: 50%;\n",
              "      cursor: pointer;\n",
              "      display: none;\n",
              "      fill: #1967D2;\n",
              "      height: 32px;\n",
              "      padding: 0 0 0 0;\n",
              "      width: 32px;\n",
              "    }\n",
              "\n",
              "    .colab-df-convert:hover {\n",
              "      background-color: #E2EBFA;\n",
              "      box-shadow: 0px 1px 2px rgba(60, 64, 67, 0.3), 0px 1px 3px 1px rgba(60, 64, 67, 0.15);\n",
              "      fill: #174EA6;\n",
              "    }\n",
              "\n",
              "    [theme=dark] .colab-df-convert {\n",
              "      background-color: #3B4455;\n",
              "      fill: #D2E3FC;\n",
              "    }\n",
              "\n",
              "    [theme=dark] .colab-df-convert:hover {\n",
              "      background-color: #434B5C;\n",
              "      box-shadow: 0px 1px 3px 1px rgba(0, 0, 0, 0.15);\n",
              "      filter: drop-shadow(0px 1px 2px rgba(0, 0, 0, 0.3));\n",
              "      fill: #FFFFFF;\n",
              "    }\n",
              "  </style>\n",
              "\n",
              "      <script>\n",
              "        const buttonEl =\n",
              "          document.querySelector('#df-66128096-ec02-4c2c-b391-0d4386ee7d09 button.colab-df-convert');\n",
              "        buttonEl.style.display =\n",
              "          google.colab.kernel.accessAllowed ? 'block' : 'none';\n",
              "\n",
              "        async function convertToInteractive(key) {\n",
              "          const element = document.querySelector('#df-66128096-ec02-4c2c-b391-0d4386ee7d09');\n",
              "          const dataTable =\n",
              "            await google.colab.kernel.invokeFunction('convertToInteractive',\n",
              "                                                     [key], {});\n",
              "          if (!dataTable) return;\n",
              "\n",
              "          const docLinkHtml = 'Like what you see? Visit the ' +\n",
              "            '<a target=\"_blank\" href=https://colab.research.google.com/notebooks/data_table.ipynb>data table notebook</a>'\n",
              "            + ' to learn more about interactive tables.';\n",
              "          element.innerHTML = '';\n",
              "          dataTable['output_type'] = 'display_data';\n",
              "          await google.colab.output.renderOutput(dataTable, element);\n",
              "          const docLink = document.createElement('div');\n",
              "          docLink.innerHTML = docLinkHtml;\n",
              "          element.appendChild(docLink);\n",
              "        }\n",
              "      </script>\n",
              "    </div>\n",
              "  </div>\n",
              "  "
            ]
          },
          "metadata": {},
          "execution_count": 3
        }
      ]
    },
    {
      "cell_type": "markdown",
      "metadata": {
        "id": "mdHAYkSCEaPJ"
      },
      "source": [
        "## A little preprocessing"
      ]
    },
    {
      "cell_type": "code",
      "execution_count": 4,
      "metadata": {
        "id": "wZ-2Tq_YEaPK"
      },
      "outputs": [],
      "source": [
        "split = train_data.shape[0]\n",
        "#combining the train and test data\n",
        "train_test= pd.concat([train_data, test_data], axis=0)\n",
        "train_test['age'] = train_test['age'].apply(lambda x: str(x) )\n",
        "train_test['age'] = train_test['age'].apply(lambda x: str(0) if x == \".d\" else x)\n",
        "train_test['age'] = train_test['age'].apply(lambda x: float(x))\n",
        "\n",
        "le = LabelEncoder()\n",
        "\n",
        "train_test['survey_date'] = train_test['survey_date'].apply(lambda x: str(x))\n",
        "le.fit(train_test['survey_date'])\n",
        "train_test['survey_date'] = le.transform(train_test['survey_date'])\n",
        "\n",
        "Null = train_test.isnull().sum()\n",
        "Null = [keys for keys, values in Null.items() if values > 0]\n",
        "for i in Null:\n",
        "    train_test[i] = train_test[i].interpolate()"
      ]
    },
    {
      "cell_type": "code",
      "source": [
        "train_test.head(10)"
      ],
      "metadata": {
        "colab": {
          "base_uri": "https://localhost:8080/",
          "height": 450
        },
        "id": "AKGnAyzPNtyA",
        "outputId": "05db8c8e-e298-4f4c-b15f-5c597ecd62c3"
      },
      "execution_count": 5,
      "outputs": [
        {
          "output_type": "execute_result",
          "data": {
            "text/plain": [
              "   surveyid  village  survey_date  femaleres   age  married  children  hhsize  \\\n",
              "0       926       91          144          1  28.0        1         4       6   \n",
              "1       747       57          150          1  23.0        1         3       5   \n",
              "2      1190      115           26          1  22.0        1         3       5   \n",
              "3      1065       97          147          1  27.0        1         2       4   \n",
              "4       806       42           78          0  59.0        0         4       6   \n",
              "5       483       25           52          1  35.0        1         6       8   \n",
              "6       849      130          190          0  34.0        0         1       3   \n",
              "7      1386       72           15          1  21.0        1         2       4   \n",
              "8       930      195           75          1  32.0        1         7       9   \n",
              "9       390       33          172          1  29.0        1         4       6   \n",
              "\n",
              "   edu  hh_children  ...  given_mpesa  amount_given_mpesa  received_mpesa  \\\n",
              "0   10            0  ...            0                 0.0               0   \n",
              "1    8            0  ...            0                 0.0               1   \n",
              "2    9            0  ...            0                 0.0               0   \n",
              "3   10            2  ...            0                 0.0               0   \n",
              "4   10            4  ...            0                 0.0               0   \n",
              "5   10            6  ...            0                 0.0               0   \n",
              "6    9            1  ...            0                 0.0               0   \n",
              "7   10            2  ...            0                 0.0               0   \n",
              "8    9            7  ...            0                 0.0               0   \n",
              "9   10            0  ...            0                 0.0               0   \n",
              "\n",
              "   amount_received_mpesa  net_mpesa  saved_mpesa  amount_saved_mpesa  \\\n",
              "0               0.000000   0.000000            1            0.000000   \n",
              "1               4.804611   4.804611            0            0.000000   \n",
              "2               8.007685   8.007685            1            0.000000   \n",
              "3               0.000000   0.000000            1            1.249199   \n",
              "4               0.000000   0.000000            0            0.000000   \n",
              "5               0.000000   0.000000            0            0.000000   \n",
              "6               0.000000   0.000000            0            0.000000   \n",
              "7               0.000000   0.000000            0            0.000000   \n",
              "8               0.000000   0.000000            0            0.000000   \n",
              "9               0.000000   0.000000            0            0.000000   \n",
              "\n",
              "   early_survey  depressed  day_of_week  \n",
              "0             0        0.0            5  \n",
              "1             0        1.0            3  \n",
              "2             0        0.0            5  \n",
              "3             0        0.0            0  \n",
              "4             0        0.0            3  \n",
              "5             0        0.0            6  \n",
              "6             0        1.0            3  \n",
              "7             0        0.0            1  \n",
              "8             0        0.0            1  \n",
              "9             0        0.0            3  \n",
              "\n",
              "[10 rows x 75 columns]"
            ],
            "text/html": [
              "\n",
              "  <div id=\"df-dacb1814-f545-4a4c-8662-2896badd7a5c\">\n",
              "    <div class=\"colab-df-container\">\n",
              "      <div>\n",
              "<style scoped>\n",
              "    .dataframe tbody tr th:only-of-type {\n",
              "        vertical-align: middle;\n",
              "    }\n",
              "\n",
              "    .dataframe tbody tr th {\n",
              "        vertical-align: top;\n",
              "    }\n",
              "\n",
              "    .dataframe thead th {\n",
              "        text-align: right;\n",
              "    }\n",
              "</style>\n",
              "<table border=\"1\" class=\"dataframe\">\n",
              "  <thead>\n",
              "    <tr style=\"text-align: right;\">\n",
              "      <th></th>\n",
              "      <th>surveyid</th>\n",
              "      <th>village</th>\n",
              "      <th>survey_date</th>\n",
              "      <th>femaleres</th>\n",
              "      <th>age</th>\n",
              "      <th>married</th>\n",
              "      <th>children</th>\n",
              "      <th>hhsize</th>\n",
              "      <th>edu</th>\n",
              "      <th>hh_children</th>\n",
              "      <th>...</th>\n",
              "      <th>given_mpesa</th>\n",
              "      <th>amount_given_mpesa</th>\n",
              "      <th>received_mpesa</th>\n",
              "      <th>amount_received_mpesa</th>\n",
              "      <th>net_mpesa</th>\n",
              "      <th>saved_mpesa</th>\n",
              "      <th>amount_saved_mpesa</th>\n",
              "      <th>early_survey</th>\n",
              "      <th>depressed</th>\n",
              "      <th>day_of_week</th>\n",
              "    </tr>\n",
              "  </thead>\n",
              "  <tbody>\n",
              "    <tr>\n",
              "      <th>0</th>\n",
              "      <td>926</td>\n",
              "      <td>91</td>\n",
              "      <td>144</td>\n",
              "      <td>1</td>\n",
              "      <td>28.0</td>\n",
              "      <td>1</td>\n",
              "      <td>4</td>\n",
              "      <td>6</td>\n",
              "      <td>10</td>\n",
              "      <td>0</td>\n",
              "      <td>...</td>\n",
              "      <td>0</td>\n",
              "      <td>0.0</td>\n",
              "      <td>0</td>\n",
              "      <td>0.000000</td>\n",
              "      <td>0.000000</td>\n",
              "      <td>1</td>\n",
              "      <td>0.000000</td>\n",
              "      <td>0</td>\n",
              "      <td>0.0</td>\n",
              "      <td>5</td>\n",
              "    </tr>\n",
              "    <tr>\n",
              "      <th>1</th>\n",
              "      <td>747</td>\n",
              "      <td>57</td>\n",
              "      <td>150</td>\n",
              "      <td>1</td>\n",
              "      <td>23.0</td>\n",
              "      <td>1</td>\n",
              "      <td>3</td>\n",
              "      <td>5</td>\n",
              "      <td>8</td>\n",
              "      <td>0</td>\n",
              "      <td>...</td>\n",
              "      <td>0</td>\n",
              "      <td>0.0</td>\n",
              "      <td>1</td>\n",
              "      <td>4.804611</td>\n",
              "      <td>4.804611</td>\n",
              "      <td>0</td>\n",
              "      <td>0.000000</td>\n",
              "      <td>0</td>\n",
              "      <td>1.0</td>\n",
              "      <td>3</td>\n",
              "    </tr>\n",
              "    <tr>\n",
              "      <th>2</th>\n",
              "      <td>1190</td>\n",
              "      <td>115</td>\n",
              "      <td>26</td>\n",
              "      <td>1</td>\n",
              "      <td>22.0</td>\n",
              "      <td>1</td>\n",
              "      <td>3</td>\n",
              "      <td>5</td>\n",
              "      <td>9</td>\n",
              "      <td>0</td>\n",
              "      <td>...</td>\n",
              "      <td>0</td>\n",
              "      <td>0.0</td>\n",
              "      <td>0</td>\n",
              "      <td>8.007685</td>\n",
              "      <td>8.007685</td>\n",
              "      <td>1</td>\n",
              "      <td>0.000000</td>\n",
              "      <td>0</td>\n",
              "      <td>0.0</td>\n",
              "      <td>5</td>\n",
              "    </tr>\n",
              "    <tr>\n",
              "      <th>3</th>\n",
              "      <td>1065</td>\n",
              "      <td>97</td>\n",
              "      <td>147</td>\n",
              "      <td>1</td>\n",
              "      <td>27.0</td>\n",
              "      <td>1</td>\n",
              "      <td>2</td>\n",
              "      <td>4</td>\n",
              "      <td>10</td>\n",
              "      <td>2</td>\n",
              "      <td>...</td>\n",
              "      <td>0</td>\n",
              "      <td>0.0</td>\n",
              "      <td>0</td>\n",
              "      <td>0.000000</td>\n",
              "      <td>0.000000</td>\n",
              "      <td>1</td>\n",
              "      <td>1.249199</td>\n",
              "      <td>0</td>\n",
              "      <td>0.0</td>\n",
              "      <td>0</td>\n",
              "    </tr>\n",
              "    <tr>\n",
              "      <th>4</th>\n",
              "      <td>806</td>\n",
              "      <td>42</td>\n",
              "      <td>78</td>\n",
              "      <td>0</td>\n",
              "      <td>59.0</td>\n",
              "      <td>0</td>\n",
              "      <td>4</td>\n",
              "      <td>6</td>\n",
              "      <td>10</td>\n",
              "      <td>4</td>\n",
              "      <td>...</td>\n",
              "      <td>0</td>\n",
              "      <td>0.0</td>\n",
              "      <td>0</td>\n",
              "      <td>0.000000</td>\n",
              "      <td>0.000000</td>\n",
              "      <td>0</td>\n",
              "      <td>0.000000</td>\n",
              "      <td>0</td>\n",
              "      <td>0.0</td>\n",
              "      <td>3</td>\n",
              "    </tr>\n",
              "    <tr>\n",
              "      <th>5</th>\n",
              "      <td>483</td>\n",
              "      <td>25</td>\n",
              "      <td>52</td>\n",
              "      <td>1</td>\n",
              "      <td>35.0</td>\n",
              "      <td>1</td>\n",
              "      <td>6</td>\n",
              "      <td>8</td>\n",
              "      <td>10</td>\n",
              "      <td>6</td>\n",
              "      <td>...</td>\n",
              "      <td>0</td>\n",
              "      <td>0.0</td>\n",
              "      <td>0</td>\n",
              "      <td>0.000000</td>\n",
              "      <td>0.000000</td>\n",
              "      <td>0</td>\n",
              "      <td>0.000000</td>\n",
              "      <td>0</td>\n",
              "      <td>0.0</td>\n",
              "      <td>6</td>\n",
              "    </tr>\n",
              "    <tr>\n",
              "      <th>6</th>\n",
              "      <td>849</td>\n",
              "      <td>130</td>\n",
              "      <td>190</td>\n",
              "      <td>0</td>\n",
              "      <td>34.0</td>\n",
              "      <td>0</td>\n",
              "      <td>1</td>\n",
              "      <td>3</td>\n",
              "      <td>9</td>\n",
              "      <td>1</td>\n",
              "      <td>...</td>\n",
              "      <td>0</td>\n",
              "      <td>0.0</td>\n",
              "      <td>0</td>\n",
              "      <td>0.000000</td>\n",
              "      <td>0.000000</td>\n",
              "      <td>0</td>\n",
              "      <td>0.000000</td>\n",
              "      <td>0</td>\n",
              "      <td>1.0</td>\n",
              "      <td>3</td>\n",
              "    </tr>\n",
              "    <tr>\n",
              "      <th>7</th>\n",
              "      <td>1386</td>\n",
              "      <td>72</td>\n",
              "      <td>15</td>\n",
              "      <td>1</td>\n",
              "      <td>21.0</td>\n",
              "      <td>1</td>\n",
              "      <td>2</td>\n",
              "      <td>4</td>\n",
              "      <td>10</td>\n",
              "      <td>2</td>\n",
              "      <td>...</td>\n",
              "      <td>0</td>\n",
              "      <td>0.0</td>\n",
              "      <td>0</td>\n",
              "      <td>0.000000</td>\n",
              "      <td>0.000000</td>\n",
              "      <td>0</td>\n",
              "      <td>0.000000</td>\n",
              "      <td>0</td>\n",
              "      <td>0.0</td>\n",
              "      <td>1</td>\n",
              "    </tr>\n",
              "    <tr>\n",
              "      <th>8</th>\n",
              "      <td>930</td>\n",
              "      <td>195</td>\n",
              "      <td>75</td>\n",
              "      <td>1</td>\n",
              "      <td>32.0</td>\n",
              "      <td>1</td>\n",
              "      <td>7</td>\n",
              "      <td>9</td>\n",
              "      <td>9</td>\n",
              "      <td>7</td>\n",
              "      <td>...</td>\n",
              "      <td>0</td>\n",
              "      <td>0.0</td>\n",
              "      <td>0</td>\n",
              "      <td>0.000000</td>\n",
              "      <td>0.000000</td>\n",
              "      <td>0</td>\n",
              "      <td>0.000000</td>\n",
              "      <td>0</td>\n",
              "      <td>0.0</td>\n",
              "      <td>1</td>\n",
              "    </tr>\n",
              "    <tr>\n",
              "      <th>9</th>\n",
              "      <td>390</td>\n",
              "      <td>33</td>\n",
              "      <td>172</td>\n",
              "      <td>1</td>\n",
              "      <td>29.0</td>\n",
              "      <td>1</td>\n",
              "      <td>4</td>\n",
              "      <td>6</td>\n",
              "      <td>10</td>\n",
              "      <td>0</td>\n",
              "      <td>...</td>\n",
              "      <td>0</td>\n",
              "      <td>0.0</td>\n",
              "      <td>0</td>\n",
              "      <td>0.000000</td>\n",
              "      <td>0.000000</td>\n",
              "      <td>0</td>\n",
              "      <td>0.000000</td>\n",
              "      <td>0</td>\n",
              "      <td>0.0</td>\n",
              "      <td>3</td>\n",
              "    </tr>\n",
              "  </tbody>\n",
              "</table>\n",
              "<p>10 rows × 75 columns</p>\n",
              "</div>\n",
              "      <button class=\"colab-df-convert\" onclick=\"convertToInteractive('df-dacb1814-f545-4a4c-8662-2896badd7a5c')\"\n",
              "              title=\"Convert this dataframe to an interactive table.\"\n",
              "              style=\"display:none;\">\n",
              "        \n",
              "  <svg xmlns=\"http://www.w3.org/2000/svg\" height=\"24px\"viewBox=\"0 0 24 24\"\n",
              "       width=\"24px\">\n",
              "    <path d=\"M0 0h24v24H0V0z\" fill=\"none\"/>\n",
              "    <path d=\"M18.56 5.44l.94 2.06.94-2.06 2.06-.94-2.06-.94-.94-2.06-.94 2.06-2.06.94zm-11 1L8.5 8.5l.94-2.06 2.06-.94-2.06-.94L8.5 2.5l-.94 2.06-2.06.94zm10 10l.94 2.06.94-2.06 2.06-.94-2.06-.94-.94-2.06-.94 2.06-2.06.94z\"/><path d=\"M17.41 7.96l-1.37-1.37c-.4-.4-.92-.59-1.43-.59-.52 0-1.04.2-1.43.59L10.3 9.45l-7.72 7.72c-.78.78-.78 2.05 0 2.83L4 21.41c.39.39.9.59 1.41.59.51 0 1.02-.2 1.41-.59l7.78-7.78 2.81-2.81c.8-.78.8-2.07 0-2.86zM5.41 20L4 18.59l7.72-7.72 1.47 1.35L5.41 20z\"/>\n",
              "  </svg>\n",
              "      </button>\n",
              "      \n",
              "  <style>\n",
              "    .colab-df-container {\n",
              "      display:flex;\n",
              "      flex-wrap:wrap;\n",
              "      gap: 12px;\n",
              "    }\n",
              "\n",
              "    .colab-df-convert {\n",
              "      background-color: #E8F0FE;\n",
              "      border: none;\n",
              "      border-radius: 50%;\n",
              "      cursor: pointer;\n",
              "      display: none;\n",
              "      fill: #1967D2;\n",
              "      height: 32px;\n",
              "      padding: 0 0 0 0;\n",
              "      width: 32px;\n",
              "    }\n",
              "\n",
              "    .colab-df-convert:hover {\n",
              "      background-color: #E2EBFA;\n",
              "      box-shadow: 0px 1px 2px rgba(60, 64, 67, 0.3), 0px 1px 3px 1px rgba(60, 64, 67, 0.15);\n",
              "      fill: #174EA6;\n",
              "    }\n",
              "\n",
              "    [theme=dark] .colab-df-convert {\n",
              "      background-color: #3B4455;\n",
              "      fill: #D2E3FC;\n",
              "    }\n",
              "\n",
              "    [theme=dark] .colab-df-convert:hover {\n",
              "      background-color: #434B5C;\n",
              "      box-shadow: 0px 1px 3px 1px rgba(0, 0, 0, 0.15);\n",
              "      filter: drop-shadow(0px 1px 2px rgba(0, 0, 0, 0.3));\n",
              "      fill: #FFFFFF;\n",
              "    }\n",
              "  </style>\n",
              "\n",
              "      <script>\n",
              "        const buttonEl =\n",
              "          document.querySelector('#df-dacb1814-f545-4a4c-8662-2896badd7a5c button.colab-df-convert');\n",
              "        buttonEl.style.display =\n",
              "          google.colab.kernel.accessAllowed ? 'block' : 'none';\n",
              "\n",
              "        async function convertToInteractive(key) {\n",
              "          const element = document.querySelector('#df-dacb1814-f545-4a4c-8662-2896badd7a5c');\n",
              "          const dataTable =\n",
              "            await google.colab.kernel.invokeFunction('convertToInteractive',\n",
              "                                                     [key], {});\n",
              "          if (!dataTable) return;\n",
              "\n",
              "          const docLinkHtml = 'Like what you see? Visit the ' +\n",
              "            '<a target=\"_blank\" href=https://colab.research.google.com/notebooks/data_table.ipynb>data table notebook</a>'\n",
              "            + ' to learn more about interactive tables.';\n",
              "          element.innerHTML = '';\n",
              "          dataTable['output_type'] = 'display_data';\n",
              "          await google.colab.output.renderOutput(dataTable, element);\n",
              "          const docLink = document.createElement('div');\n",
              "          docLink.innerHTML = docLinkHtml;\n",
              "          element.appendChild(docLink);\n",
              "        }\n",
              "      </script>\n",
              "    </div>\n",
              "  </div>\n",
              "  "
            ]
          },
          "metadata": {},
          "execution_count": 5
        }
      ]
    },
    {
      "cell_type": "code",
      "source": [
        "# train_test.drop(columns=['surveyid','village','survey_date'],inplace=True)"
      ],
      "metadata": {
        "id": "TJk5psxyN25N"
      },
      "execution_count": null,
      "outputs": []
    },
    {
      "cell_type": "code",
      "source": [
        "# from sklearn.preprocessing import MinMaxScaler\n",
        "# scaler = MinMaxScaler()\n",
        " \n",
        "# df_scaled= scaler.fit_transform(train_test.to_numpy())"
      ],
      "metadata": {
        "id": "-QD4utqQP7jI"
      },
      "execution_count": null,
      "outputs": []
    },
    {
      "cell_type": "code",
      "source": [
        "# train_test=pd.DataFrame(df_scaled,columns=train_test.columns)\n",
        "# train_test.head()"
      ],
      "metadata": {
        "id": "h8ZljhdRQhx0"
      },
      "execution_count": null,
      "outputs": []
    },
    {
      "cell_type": "code",
      "execution_count": 6,
      "metadata": {
        "id": "ghhSGTo9EaPL",
        "colab": {
          "base_uri": "https://localhost:8080/"
        },
        "outputId": "d6e800e6-8dbb-4eb3-e58e-acfb2990a849"
      },
      "outputs": [
        {
          "output_type": "stream",
          "name": "stderr",
          "text": [
            "/usr/local/lib/python3.7/dist-packages/pandas/util/_decorators.py:311: SettingWithCopyWarning: \n",
            "A value is trying to be set on a copy of a slice from a DataFrame\n",
            "\n",
            "See the caveats in the documentation: https://pandas.pydata.org/pandas-docs/stable/user_guide/indexing.html#returning-a-view-versus-a-copy\n",
            "  return func(*args, **kwargs)\n"
          ]
        }
      ],
      "source": [
        "train_df = train_test[:split]\n",
        "test_df = train_test[split:]\n",
        "train_df.dropna(inplace=True)\n",
        "train_df.reset_index(drop=True, inplace=True)\n",
        "\n"
      ]
    },
    {
      "cell_type": "markdown",
      "source": [
        "feature selection"
      ],
      "metadata": {
        "id": "oBrL4q6Y__Yn"
      }
    },
    {
      "cell_type": "code",
      "source": [
        "\n",
        "# from sklearn.ensemble import RandomForestClassifier"
      ],
      "metadata": {
        "id": "afdzfp5QAjgz"
      },
      "execution_count": null,
      "outputs": []
    },
    {
      "cell_type": "code",
      "source": [
        "# import pandas as pd\n",
        "# from sklearn.feature_selection import SelectFromModel"
      ],
      "metadata": {
        "id": "WUu5PK1F_-wJ"
      },
      "execution_count": null,
      "outputs": []
    },
    {
      "cell_type": "code",
      "source": [
        "y_train = train_df['depressed']\n",
        "x_train = train_df.drop(labels=['depressed'], axis=1)\n",
        "x_test = test_df.drop(labels=['depressed'], axis=1)"
      ],
      "metadata": {
        "id": "6FPgCZqX_3Zw"
      },
      "execution_count": 7,
      "outputs": []
    },
    {
      "cell_type": "code",
      "source": [
        "# sel = SelectFromModel(RandomForestClassifier(n_estimators = 100))\n",
        "# sel.fit(x_train, y_train)"
      ],
      "metadata": {
        "id": "mjtmqYg-A7n7"
      },
      "execution_count": null,
      "outputs": []
    },
    {
      "cell_type": "code",
      "source": [
        "# sel.get_support()"
      ],
      "metadata": {
        "id": "-6sjTsTiBhUp"
      },
      "execution_count": null,
      "outputs": []
    },
    {
      "cell_type": "code",
      "source": [
        "# selected_feat= x_train.columns[(sel.get_support())]\n",
        "# len(selected_feat)"
      ],
      "metadata": {
        "id": "iYKiFjzpBhRz"
      },
      "execution_count": null,
      "outputs": []
    },
    {
      "cell_type": "code",
      "source": [
        "# print(selected_feat)"
      ],
      "metadata": {
        "id": "UMtRrT6uB1_q"
      },
      "execution_count": null,
      "outputs": []
    },
    {
      "cell_type": "code",
      "source": [
        "# feat=selected_feat.tolist()\n"
      ],
      "metadata": {
        "id": "B_Wmm7_mItPE"
      },
      "execution_count": null,
      "outputs": []
    },
    {
      "cell_type": "code",
      "source": [
        "# pd.Series(sel.estimator_.feature_importances_.ravel()).hist()"
      ],
      "metadata": {
        "id": "p5o8XcP6B4A7"
      },
      "execution_count": null,
      "outputs": []
    },
    {
      "cell_type": "code",
      "source": [
        "# train.head()"
      ],
      "metadata": {
        "id": "rcU4zPIMLHFr"
      },
      "execution_count": null,
      "outputs": []
    },
    {
      "cell_type": "code",
      "source": [
        "# train=train[feat]"
      ],
      "metadata": {
        "id": "6EqipN4hIkhS"
      },
      "execution_count": null,
      "outputs": []
    },
    {
      "cell_type": "code",
      "source": [
        "# train.head()"
      ],
      "metadata": {
        "id": "LQ0c8KaNI5eo"
      },
      "execution_count": null,
      "outputs": []
    },
    {
      "cell_type": "code",
      "source": [
        "# x_train = train[feat]\n",
        "# x_test = test[feat]"
      ],
      "metadata": {
        "id": "9tqMKYOSJB93"
      },
      "execution_count": null,
      "outputs": []
    },
    {
      "cell_type": "code",
      "source": [
        "\n",
        "clf = AdaBoostClassifier(n_estimators=90,learning_rate=0.01)\n",
        "\n"
      ],
      "metadata": {
        "id": "qI8CDdz8U4n_"
      },
      "execution_count": null,
      "outputs": []
    },
    {
      "cell_type": "code",
      "source": [
        "\n",
        "# # n_jobs=-1 to allow run it on all cores\n",
        "# params = {\n",
        "#     'learning_rate': [0.01,0.05,0.1],\n",
        "#     'max_depth':range(3,12,3),\n",
        "#     'min_samples_split'=[100,200],\n",
        "# }\n",
        "\n",
        "# gs2 = GridSearchCV(xgb.XGBClassifier(n_jobs=-1), params, n_jobs=-1, cv=KFold(n_splits=3), scoring='roc_auc')\n",
        "# gs2.fit(x_train, y_train)\n"
      ],
      "metadata": {
        "id": "HhJPMnTHsd6O"
      },
      "execution_count": 8,
      "outputs": []
    },
    {
      "cell_type": "code",
      "source": [
        "\n",
        "# print('Best score:', gs2.best_score_)\n",
        "# print('Best score:', gs2.best_params_)"
      ],
      "metadata": {
        "id": "_YgyLnqEuhMb"
      },
      "execution_count": 9,
      "outputs": []
    },
    {
      "cell_type": "code",
      "source": [
        "# param_test3 = {'random_state':range(2,15,2),'max_depth':range(3,12,3)}\n",
        "# gsearch3 = GridSearchCV(estimator = GradientBoostingClassifier( n_estimators=90), \n",
        "# param_grid = param_test3, scoring='roc_auc',n_jobs=4, cv=5)\n",
        "# gsearch3.fit(x_train,y_train)\n",
        "# gsearch3.best_params_, gsearch3.best_score_"
      ],
      "metadata": {
        "id": "S98DomLfxhen"
      },
      "execution_count": 10,
      "outputs": []
    },
    {
      "cell_type": "code",
      "source": [
        "# params = {\n",
        "#     'n_estimators':range(10,50,10),\n",
        "#     'random_state':range(3,12,3)\n",
        "# }\n",
        "\n",
        "# gs1 = GridSearchCV(RandomForestClassifier(n_jobs=-1), params, n_jobs=-1, cv=KFold(n_splits=3), scoring='roc_auc')\n",
        "# gs1.fit(x_train, y_train)\n",
        "\n",
        "# print('Best score:', gs1.best_score_)\n",
        "# print('Best score:', gs1.best_params_)"
      ],
      "metadata": {
        "id": "ZX8-gdQ16dlX"
      },
      "execution_count": 11,
      "outputs": []
    },
    {
      "cell_type": "markdown",
      "source": [
        "##Stacking the models with their best parameters"
      ],
      "metadata": {
        "id": "G071YBtz29Bk"
      }
    },
    {
      "cell_type": "code",
      "source": [
        "# !pip install mlxtend\n",
        "# import six\n",
        "# import sys\n",
        "# sys.modules['sklearn.externals.six'] = six"
      ],
      "metadata": {
        "id": "9ofTabqO3DER"
      },
      "execution_count": null,
      "outputs": []
    },
    {
      "cell_type": "code",
      "source": [
        "# import mlxtend\n",
        "# from mlxtend.classifier import StackingClassifier\n",
        "# from sklearn.linear_model import LogisticRegression"
      ],
      "metadata": {
        "id": "ae-n1T7R3Tnk"
      },
      "execution_count": null,
      "outputs": []
    },
    {
      "cell_type": "code",
      "source": [
        "# model1 = RandomForestClassifier(random_state=3, n_estimators=20)\n",
        "# model2= xgb.XGBClassifier(seed=3)\n",
        "# model3 = GradientBoostingClassifier(n_estimators=120, max_depth=3, random_state=8) \n",
        "\n",
        "# stack = StackingClassifier(classifiers=[model1, model2, model3], meta_classifier=clf)\n",
        "# stack.fit(x_train, y_train)\n",
        "    \n",
        "#     # make class predictions for the testing set\n",
        "# y_pred_class = stack.predict(x_test)\n",
        "    "
      ],
      "metadata": {
        "id": "LyMLlJ2u3dSq"
      },
      "execution_count": null,
      "outputs": []
    },
    {
      "cell_type": "code",
      "source": [
        "# sub = pd.DataFrame({\"surveyid\": df_test['surveyid'],  \"depressed\": y_pred_class})\n",
        "# sub= subm[['surveyid', 'depressed']]\n",
        "# sub.to_csv(\"test.csv\", index = False)"
      ],
      "metadata": {
        "id": "JeOCevkn3rWx"
      },
      "execution_count": null,
      "outputs": []
    },
    {
      "cell_type": "markdown",
      "source": [
        "##Blending Gradientbosting, xgb and randomforest with their hyperparameters"
      ],
      "metadata": {
        "id": "zYWojwx72BmZ"
      }
    },
    {
      "cell_type": "code",
      "execution_count": 12,
      "metadata": {
        "collapsed": true,
        "id": "Cam4gIlAEaPN"
      },
      "outputs": [],
      "source": [
        "# model = GradientBoostingClassifier(n_estimators=90) \n",
        "model1= GradientBoostingClassifier(n_estimators=90, max_depth=3, random_state=8)\n",
        "model1.fit(x_train,y_train)\n",
        "gb = model1.predict(x_test)\n",
        "\n",
        "model2= xgb.XGBClassifier(seed=3,max_depth=4,min_samples_split=100,learning_rate=0.1)\n",
        "model2.fit(x_train, y_train)\n",
        "xgb = model2.predict_proba(x_test)\n",
        "        \n",
        "model3 = RandomForestClassifier(random_state=3,n_estimators=20)\n",
        "model3.fit(x_train, y_train)\n",
        "rf = model3.predict(x_test)\n",
        "\n",
        "\n",
        "xgb_pred = []\n",
        "for p in xgb:\n",
        "    if 0.49 < p[1] < 0.6:\n",
        "        xgb_pred.append(1)\n",
        "    else:\n",
        "        xgb_pred.append(0)\n",
        "\n",
        "\n",
        "\n",
        "blend = []\n",
        "for p in range(len(gb)):\n",
        "    if (gb[p] > 0) | (xgb_pred[p] > 0) | (rf[p] > 0):\n",
        "        blend.append(1)\n",
        "    else:\n",
        "        blend.append(0)\n"
      ]
    },
    {
      "cell_type": "code",
      "source": [
        "for i in blend:\n",
        "  if i==1:\n",
        "    print(i)"
      ],
      "metadata": {
        "colab": {
          "base_uri": "https://localhost:8080/"
        },
        "id": "FnFBT0c6nbX6",
        "outputId": "1d206d59-628b-43cd-9d11-303244aae0f0"
      },
      "execution_count": 13,
      "outputs": [
        {
          "output_type": "stream",
          "name": "stdout",
          "text": [
            "1\n",
            "1\n",
            "1\n",
            "1\n",
            "1\n",
            "1\n",
            "1\n",
            "1\n",
            "1\n",
            "1\n"
          ]
        }
      ]
    },
    {
      "cell_type": "code",
      "source": [
        "sub = pd.DataFrame({\"surveyid\": test_df['surveyid'],  \"depressed\": blend})\n",
        "sub = sub[['surveyid', 'depressed']]\n",
        "sub.to_csv(\"sub_blend.csv\", index = False)"
      ],
      "metadata": {
        "id": "mS-4OD-l5K0f"
      },
      "execution_count": 14,
      "outputs": []
    },
    {
      "cell_type": "code",
      "source": [
        "\n",
        "# sub = pd.DataFrame({\"surveyid\": df_test['surveyid'],  \"depressed\": gb_pred})\n",
        "# sub = sub[['surveyid', 'depressed']]\n",
        "# sub.to_csv(\"sub_gb.csv\", index = False)"
      ],
      "metadata": {
        "id": "bLYBCLyeRtFU"
      },
      "execution_count": null,
      "outputs": []
    },
    {
      "cell_type": "code",
      "source": [
        "# sub = pd.DataFrame({\"surveyid\": df_test['surveyid'],  \"depressed\": xgb_pred})\n",
        "# sub = sub[['surveyid', 'depressed']]\n",
        "# sub.to_csv(\"sub_xgb.csv\", index = False)"
      ],
      "metadata": {
        "id": "I4-CKgeW_qIO"
      },
      "execution_count": null,
      "outputs": []
    },
    {
      "cell_type": "code",
      "source": [
        "# sub = pd.DataFrame({\"surveyid\": df_test['surveyid'],  \"depressed\": rf_pred})\n",
        "# sub = sub[['surveyid', 'depressed']]\n",
        "# sub.to_csv(\"sub_rf.csv\", index = False)"
      ],
      "metadata": {
        "id": "XRO2CbAG_rXy"
      },
      "execution_count": null,
      "outputs": []
    },
    {
      "cell_type": "code",
      "source": [],
      "metadata": {
        "id": "xn1yVl31dUdn"
      },
      "execution_count": null,
      "outputs": []
    },
    {
      "cell_type": "code",
      "source": [],
      "metadata": {
        "id": "066q-6Qjirq_"
      },
      "execution_count": null,
      "outputs": []
    }
  ],
  "metadata": {
    "kernelspec": {
      "display_name": "Python 3",
      "language": "python",
      "name": "python3"
    },
    "language_info": {
      "codemirror_mode": {
        "name": "ipython",
        "version": 3
      },
      "file_extension": ".py",
      "mimetype": "text/x-python",
      "name": "python",
      "nbconvert_exporter": "python",
      "pygments_lexer": "ipython3",
      "version": "3.6.2"
    },
    "colab": {
      "provenance": [],
      "collapsed_sections": [],
      "include_colab_link": true
    },
    "accelerator": "GPU"
  },
  "nbformat": 4,
  "nbformat_minor": 0
}